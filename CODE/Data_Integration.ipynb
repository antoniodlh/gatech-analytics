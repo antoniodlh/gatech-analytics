{
 "cells": [
  {
   "cell_type": "markdown",
   "metadata": {},
   "source": [
    "# Data Consolidation\n",
    "\n",
    "\n",
    "\n",
    "`load_data()`"
   ]
  },
  {
   "cell_type": "markdown",
   "metadata": {},
   "source": [
    "#### Pyspark Imports\n"
   ]
  },
  {
   "cell_type": "code",
   "execution_count": 43,
   "metadata": {},
   "outputs": [],
   "source": [
    "import pyspark\n",
    "from pyspark.sql import SQLContext\n",
    "from pyspark.sql.functions import hour, when, col, date_format, to_timestamp,format_string,lag\n",
    "import pyspark.sql.functions as f"
   ]
  },
  {
   "cell_type": "markdown",
   "metadata": {},
   "source": [
    "#### Define Spark Context\n"
   ]
  },
  {
   "cell_type": "code",
   "execution_count": 44,
   "metadata": {},
   "outputs": [
    {
     "ename": "ValueError",
     "evalue": "Cannot run multiple SparkContexts at once; existing SparkContext(app=Data_consolidation, master=local[*]) created by __init__ at <ipython-input-3-700fce72828a>:1 ",
     "output_type": "error",
     "traceback": [
      "\u001b[0;31m\u001b[0m",
      "\u001b[0;31mValueError\u001b[0mTraceback (most recent call last)",
      "\u001b[0;32m<ipython-input-44-700fce72828a>\u001b[0m in \u001b[0;36m<module>\u001b[0;34m()\u001b[0m\n\u001b[0;32m----> 1\u001b[0;31m \u001b[0msc\u001b[0m \u001b[0;34m=\u001b[0m \u001b[0mpyspark\u001b[0m\u001b[0;34m.\u001b[0m\u001b[0mSparkContext\u001b[0m\u001b[0;34m(\u001b[0m\u001b[0mappName\u001b[0m\u001b[0;34m=\u001b[0m\u001b[0;34m\"Data_consolidation\"\u001b[0m\u001b[0;34m)\u001b[0m\u001b[0;34m\u001b[0m\u001b[0;34m\u001b[0m\u001b[0m\n\u001b[0m\u001b[1;32m      2\u001b[0m \u001b[0msqlContext\u001b[0m \u001b[0;34m=\u001b[0m \u001b[0mSQLContext\u001b[0m\u001b[0;34m(\u001b[0m\u001b[0msc\u001b[0m\u001b[0;34m)\u001b[0m\u001b[0;34m\u001b[0m\u001b[0;34m\u001b[0m\u001b[0m\n",
      "\u001b[0;32m/usr/local/lib/python3.6/dist-packages/pyspark/context.py\u001b[0m in \u001b[0;36m__init__\u001b[0;34m(self, master, appName, sparkHome, pyFiles, environment, batchSize, serializer, conf, gateway, jsc, profiler_cls)\u001b[0m\n\u001b[1;32m    131\u001b[0m                 \" is not allowed as it is a security risk.\")\n\u001b[1;32m    132\u001b[0m \u001b[0;34m\u001b[0m\u001b[0m\n\u001b[0;32m--> 133\u001b[0;31m         \u001b[0mSparkContext\u001b[0m\u001b[0;34m.\u001b[0m\u001b[0m_ensure_initialized\u001b[0m\u001b[0;34m(\u001b[0m\u001b[0mself\u001b[0m\u001b[0;34m,\u001b[0m \u001b[0mgateway\u001b[0m\u001b[0;34m=\u001b[0m\u001b[0mgateway\u001b[0m\u001b[0;34m,\u001b[0m \u001b[0mconf\u001b[0m\u001b[0;34m=\u001b[0m\u001b[0mconf\u001b[0m\u001b[0;34m)\u001b[0m\u001b[0;34m\u001b[0m\u001b[0;34m\u001b[0m\u001b[0m\n\u001b[0m\u001b[1;32m    134\u001b[0m         \u001b[0;32mtry\u001b[0m\u001b[0;34m:\u001b[0m\u001b[0;34m\u001b[0m\u001b[0;34m\u001b[0m\u001b[0m\n\u001b[1;32m    135\u001b[0m             self._do_init(master, appName, sparkHome, pyFiles, environment, batchSize, serializer,\n",
      "\u001b[0;32m/usr/local/lib/python3.6/dist-packages/pyspark/context.py\u001b[0m in \u001b[0;36m_ensure_initialized\u001b[0;34m(cls, instance, gateway, conf)\u001b[0m\n\u001b[1;32m    339\u001b[0m                         \u001b[0;34m\" created by %s at %s:%s \"\u001b[0m\u001b[0;34m\u001b[0m\u001b[0;34m\u001b[0m\u001b[0m\n\u001b[1;32m    340\u001b[0m                         % (currentAppName, currentMaster,\n\u001b[0;32m--> 341\u001b[0;31m                             callsite.function, callsite.file, callsite.linenum))\n\u001b[0m\u001b[1;32m    342\u001b[0m                 \u001b[0;32melse\u001b[0m\u001b[0;34m:\u001b[0m\u001b[0;34m\u001b[0m\u001b[0;34m\u001b[0m\u001b[0m\n\u001b[1;32m    343\u001b[0m                     \u001b[0mSparkContext\u001b[0m\u001b[0;34m.\u001b[0m\u001b[0m_active_spark_context\u001b[0m \u001b[0;34m=\u001b[0m \u001b[0minstance\u001b[0m\u001b[0;34m\u001b[0m\u001b[0;34m\u001b[0m\u001b[0m\n",
      "\u001b[0;31mValueError\u001b[0m: Cannot run multiple SparkContexts at once; existing SparkContext(app=Data_consolidation, master=local[*]) created by __init__ at <ipython-input-3-700fce72828a>:1 "
     ]
    }
   ],
   "source": [
    "sc = pyspark.SparkContext(appName=\"Data_consolidation\")\n",
    "sqlContext = SQLContext(sc)"
   ]
  },
  {
   "cell_type": "markdown",
   "metadata": {},
   "source": [
    "#### Function to load data\n",
    "\n",
    "<span style=\"color:red\">*Import Covid, Crime and SMB data*</span>"
   ]
  },
  {
   "cell_type": "code",
   "execution_count": 45,
   "metadata": {},
   "outputs": [],
   "source": [
    "def load_data():\n",
    "    bos = sqlContext.read.option(\"header\",True).csv(\"boston_covid.csv\")\n",
    "    phoen= sqlContext.read.option(\"header\",True).csv(\"Phoenix_covid.csv\")\n",
    "    denv= sqlContext.read.option(\"header\",True).csv(\"denver_covid.csv\")\n",
    "    balti= sqlContext.read.option(\"header\",True).csv(\"baltimore.csv\")\n",
    "    crime = sqlContext.read.option(\"header\",True).csv(\"combined_crime_data.csv\")\n",
    "    city= sqlContext.read.option(\"header\",True).csv(\"City_Level_data.csv\")\n",
    "    #county= sqlContext.read.option(\"header\",True).csv(\"County_Level_data.csv\")\n",
    "    lookup= sqlContext.read.option(\"header\",True).csv(\"uszips.csv\")\n",
    "    #all=sqlContext.read.option(\"header\",True).csv(\"allzip_covid.csv\")\n",
    "    \n",
    "    \n",
    "    \n",
    "    return bos,phoen,denv,balti,crime,city,lookup"
   ]
  },
  {
   "cell_type": "code",
   "execution_count": 46,
   "metadata": {},
   "outputs": [
    {
     "name": "stdout",
     "output_type": "stream",
     "text": [
      "root\n",
      " |-- date: string (nullable = true)\n",
      " |-- state_name: string (nullable = true)\n",
      " |-- zip: string (nullable = true)\n",
      " |-- county_fips: string (nullable = true)\n",
      " |-- city: string (nullable = true)\n",
      " |-- cases: string (nullable = true)\n",
      " |-- deaths: string (nullable = true)\n",
      "\n",
      "root\n",
      " |-- date: string (nullable = true)\n",
      " |-- state_name: string (nullable = true)\n",
      " |-- zip: string (nullable = true)\n",
      " |-- county_fips: string (nullable = true)\n",
      " |-- city: string (nullable = true)\n",
      " |-- cases: string (nullable = true)\n",
      " |-- deaths: string (nullable = true)\n",
      "\n",
      "root\n",
      " |-- date: string (nullable = true)\n",
      " |-- state_name: string (nullable = true)\n",
      " |-- zip: string (nullable = true)\n",
      " |-- county_fips: string (nullable = true)\n",
      " |-- city: string (nullable = true)\n",
      " |-- cases: string (nullable = true)\n",
      " |-- deaths: string (nullable = true)\n",
      "\n",
      "root\n",
      " |-- date: string (nullable = true)\n",
      " |-- state_name: string (nullable = true)\n",
      " |-- zip: string (nullable = true)\n",
      " |-- county_fips: string (nullable = true)\n",
      " |-- city: string (nullable = true)\n",
      " |-- cases: string (nullable = true)\n",
      " |-- deaths: string (nullable = true)\n",
      "\n",
      "root\n",
      " |-- zip: string (nullable = true)\n",
      " |-- lat: string (nullable = true)\n",
      " |-- lng: string (nullable = true)\n",
      " |-- city: string (nullable = true)\n",
      " |-- state_id: string (nullable = true)\n",
      " |-- state_name: string (nullable = true)\n",
      " |-- zcta: string (nullable = true)\n",
      " |-- parent_zcta: string (nullable = true)\n",
      " |-- population: string (nullable = true)\n",
      " |-- density: string (nullable = true)\n",
      " |-- county_fips: string (nullable = true)\n",
      " |-- county_name: string (nullable = true)\n",
      " |-- county_weights: string (nullable = true)\n",
      " |-- county_names_all: string (nullable = true)\n",
      " |-- county_fips_all: string (nullable = true)\n",
      " |-- imprecise: string (nullable = true)\n",
      " |-- military: string (nullable = true)\n",
      " |-- timezone: string (nullable = true)\n",
      "\n",
      "root\n",
      " |-- year: string (nullable = true)\n",
      " |-- month: string (nullable = true)\n",
      " |-- day: string (nullable = true)\n",
      " |-- cityid: string (nullable = true)\n",
      " |-- City: string (nullable = true)\n",
      " |-- County: string (nullable = true)\n",
      " |-- merchants_all: string (nullable = true)\n",
      " |-- merchants_ss40: string (nullable = true)\n",
      " |-- merchants_ss60: string (nullable = true)\n",
      " |-- merchants_ss65: string (nullable = true)\n",
      " |-- merchants_ss70: string (nullable = true)\n",
      " |-- revenue_all: string (nullable = true)\n",
      " |-- revenue_ss40: string (nullable = true)\n",
      " |-- revenue_ss60: string (nullable = true)\n",
      " |-- revenue_ss65: string (nullable = true)\n",
      " |-- revenue_ss70: string (nullable = true)\n",
      " |-- _c16: string (nullable = true)\n",
      " |-- spend_acf: string (nullable = true)\n",
      " |-- spend_aer: string (nullable = true)\n",
      " |-- spend_all: string (nullable = true)\n",
      " |-- spend_apg: string (nullable = true)\n",
      " |-- spend_grf: string (nullable = true)\n",
      " |-- spend_hcs: string (nullable = true)\n",
      " |-- spend_tws: string (nullable = true)\n",
      " |-- spend_retail_w_grocery: string (nullable = true)\n",
      " |-- spend_retail_no_grocery: string (nullable = true)\n",
      "\n",
      "root\n",
      " |-- crimedate: string (nullable = true)\n",
      " |-- zip: string (nullable = true)\n",
      " |-- city: string (nullable = true)\n",
      " |-- Aggravated Assault: string (nullable = true)\n",
      " |-- Arson: string (nullable = true)\n",
      " |-- Burglary: string (nullable = true)\n",
      " |-- Common Assault: string (nullable = true)\n",
      " |-- Drug Offense: string (nullable = true)\n",
      " |-- Fraud: string (nullable = true)\n",
      " |-- Harassment: string (nullable = true)\n",
      " |-- Homicide: string (nullable = true)\n",
      " |-- Larceny: string (nullable = true)\n",
      " |-- Motor Vehicle Theft: string (nullable = true)\n",
      " |-- Rape: string (nullable = true)\n",
      " |-- Robbery: string (nullable = true)\n",
      " |-- Shooting: string (nullable = true)\n",
      " |-- Threat - Bodily Harm: string (nullable = true)\n",
      " |-- Trespassing: string (nullable = true)\n",
      " |-- Vandalism: string (nullable = true)\n",
      " |-- Non-Violent: string (nullable = true)\n",
      " |-- Violent: string (nullable = true)\n",
      "\n"
     ]
    }
   ],
   "source": [
    "boston,phoenix,denver,baltimore,crime,city,lookup= load_data()\n",
    "\n",
    "boston.printSchema()\n",
    "phoenix.printSchema()\n",
    "denver.printSchema()\n",
    "baltimore.printSchema()\n",
    "lookup.printSchema()\n",
    "city.printSchema()\n",
    "crime.printSchema()\n",
    "\n",
    "\n",
    "\n"
   ]
  },
  {
   "cell_type": "markdown",
   "metadata": {},
   "source": [
    "#### Function to convert Covid cases to daily numbers\n",
    "\n",
    "<span style=\"color:red\">*Use window ,lag functions*</span>"
   ]
  },
  {
   "cell_type": "code",
   "execution_count": 47,
   "metadata": {},
   "outputs": [],
   "source": [
    "from pyspark.sql.window import Window\n",
    "def daily_covid(df):\n",
    "    df = df.withColumn('c', to_timestamp(col('date')))\n",
    "    w = Window.partitionBy('zip').orderBy('c')\n",
    "    df=df.withColumn('prev_cases',lag('cases').over(w))\n",
    "    df=df.withColumn('daily_cases',col('cases')-col('prev_cases'))\n",
    "    df=df.withColumn('prev_deaths',lag('deaths').over(w))\n",
    "    df=df.withColumn('daily_deaths',col('deaths')-col('prev_deaths'))\n",
    "    df=df.drop('c')\n",
    "    return df\n",
    "\n",
    "boston=daily_covid(boston)\n",
    "phoenix=daily_covid(phoenix)\n",
    "denver=daily_covid(denver)\n",
    "baltimore=daily_covid(baltimore)\n",
    "\n"
   ]
  },
  {
   "cell_type": "code",
   "execution_count": 48,
   "metadata": {},
   "outputs": [
    {
     "name": "stdout",
     "output_type": "stream",
     "text": [
      "+----------+----------+-----+-----------+---------+-----+------+----------+-----------+-----------+------------+\n",
      "|      date|state_name|  zip|county_fips|     city|cases|deaths|prev_cases|daily_cases|prev_deaths|daily_deaths|\n",
      "+----------+----------+-----+-----------+---------+-----+------+----------+-----------+-----------+------------+\n",
      "|2020-03-11|  Maryland|21250|      24005|Baltimore|    0|     0|      null|       null|       null|        null|\n",
      "|2020-03-12|  Maryland|21250|      24005|Baltimore|    0|     0|         0|        0.0|          0|         0.0|\n",
      "|2020-03-13|  Maryland|21250|      24005|Baltimore|    0|     0|         0|        0.0|          0|         0.0|\n",
      "+----------+----------+-----+-----------+---------+-----+------+----------+-----------+-----------+------------+\n",
      "only showing top 3 rows\n",
      "\n",
      "+----------+----------+-----+-----------+------+-----+------+----------+-----------+-----------+------------+\n",
      "|      date|state_name|  zip|county_fips|  city|cases|deaths|prev_cases|daily_cases|prev_deaths|daily_deaths|\n",
      "+----------+----------+-----+-----------+------+-----+------+----------+-----------+-----------+------------+\n",
      "|2020-03-06|  Colorado|80218|      08031|Denver|    0|     0|      null|       null|       null|        null|\n",
      "|2020-03-07|  Colorado|80218|      08031|Denver|    0|     0|         0|        0.0|          0|         0.0|\n",
      "|2020-03-08|  Colorado|80218|      08031|Denver|    0|     0|         0|        0.0|          0|         0.0|\n",
      "+----------+----------+-----+-----------+------+-----+------+----------+-----------+-----------+------------+\n",
      "only showing top 3 rows\n",
      "\n",
      "+----------+----------+-----+-----------+-------+-----+------+----------+-----------+-----------+------------+\n",
      "|      date|state_name|  zip|county_fips|   city|cases|deaths|prev_cases|daily_cases|prev_deaths|daily_deaths|\n",
      "+----------+----------+-----+-----------+-------+-----+------+----------+-----------+-----------+------------+\n",
      "|2020-01-26|   Arizona|85022|      04013|Phoenix|    0|     0|      null|       null|       null|        null|\n",
      "|2020-01-27|   Arizona|85022|      04013|Phoenix|    0|     0|         0|        0.0|          0|         0.0|\n",
      "|2020-01-28|   Arizona|85022|      04013|Phoenix|    0|     0|         0|        0.0|          0|         0.0|\n",
      "+----------+----------+-----+-----------+-------+-----+------+----------+-----------+-----------+------------+\n",
      "only showing top 3 rows\n",
      "\n",
      "+----------+-------------+-----+-----------+------+-----+------+----------+-----------+-----------+------------+\n",
      "|      date|   state_name|  zip|county_fips|  city|cases|deaths|prev_cases|daily_cases|prev_deaths|daily_deaths|\n",
      "+----------+-------------+-----+-----------+------+-----+------+----------+-----------+-----------+------------+\n",
      "|2020-02-01|Massachusetts|02118|      25025|Boston|    0|     0|      null|       null|       null|        null|\n",
      "|2020-02-02|Massachusetts|02118|      25025|Boston|    0|     0|         0|        0.0|          0|         0.0|\n",
      "|2020-02-03|Massachusetts|02118|      25025|Boston|    0|     0|         0|        0.0|          0|         0.0|\n",
      "+----------+-------------+-----+-----------+------+-----+------+----------+-----------+-----------+------------+\n",
      "only showing top 3 rows\n",
      "\n"
     ]
    }
   ],
   "source": [
    "baltimore.show(3)\n",
    "denver.show(3)\n",
    "phoenix.show(3)\n",
    "boston.show(3)"
   ]
  },
  {
   "cell_type": "markdown",
   "metadata": {},
   "source": [
    "### Formate month, day and add date column in City File"
   ]
  },
  {
   "cell_type": "code",
   "execution_count": 49,
   "metadata": {},
   "outputs": [
    {
     "name": "stdout",
     "output_type": "stream",
     "text": [
      "+----+-----+---+------+---------+---------+-------------+--------------+--------------+--------------+--------------+------------+------------+------------+------------+------------+----+---------+---------+---------+---------+---------+---------+---------+----------------------+-----------------------+----------+\n",
      "|year|month|day|cityid|     City|   County|merchants_all|merchants_ss40|merchants_ss60|merchants_ss65|merchants_ss70| revenue_all|revenue_ss40|revenue_ss60|revenue_ss65|revenue_ss70|_c16|spend_acf|spend_aer|spend_all|spend_apg|spend_grf|spend_hcs|spend_tws|spend_retail_w_grocery|spend_retail_no_grocery|      date|\n",
      "+----+-----+---+------+---------+---------+-------------+--------------+--------------+--------------+--------------+------------+------------+------------+------------+------------+----+---------+---------+---------+---------+---------+---------+---------+----------------------+-----------------------+----------+\n",
      "|2020|   01| 10|     5|  Phoenix| Maricopa|      0.00733|   0.023499999|      -0.00833|       0.00818|        0.0105|    -0.00973|    0.000692|     -0.0139|     -0.0298|      0.0097|null|        .|        .|        .|        .|        .|        .|        .|                     .|                      .|2020-01-10|\n",
      "|2020|   01| 10|    23|Baltimore|Baltimore|      -0.0142|  -0.016799999|     -0.000501|      0.000055|  -0.018100001|-0.092799999|-0.043499999|-0.097000003|      -0.148|      -0.123|null|        .|        .|        .|        .|        .|        .|        .|                     .|                      .|2020-01-10|\n",
      "|2020|   01| 10|    25|   Boston|  Suffolk|     0.000596|       0.00173|  -0.042800002|   0.029300001|        0.0108|     0.00579|-0.050000001|       0.182|       0.156|     -0.0264|null|        .|        .|        .|        .|        .|        .|        .|                     .|                      .|2020-01-10|\n",
      "+----+-----+---+------+---------+---------+-------------+--------------+--------------+--------------+--------------+------------+------------+------------+------------+------------+----+---------+---------+---------+---------+---------+---------+---------+----------------------+-----------------------+----------+\n",
      "only showing top 3 rows\n",
      "\n"
     ]
    }
   ],
   "source": [
    "city=city.withColumn('month',format_string(\"%02d\", col('month').cast('Integer')))\n",
    "city=city.withColumn('day',format_string(\"%02d\", col('day').cast('Integer')))\n",
    "\n",
    "city=city.withColumn('date',f.concat(f.col('year'),f.lit('-'), f.col('month'),f.lit('-'),f.col('day')))\n",
    "city.show(3)"
   ]
  },
  {
   "cell_type": "markdown",
   "metadata": {},
   "source": [
    "### Merging Covid, Crime and City Files."
   ]
  },
  {
   "cell_type": "code",
   "execution_count": 50,
   "metadata": {},
   "outputs": [],
   "source": [
    "\n",
    "lu=lookup.withColumn(\"County\",col(\"county_name\")).drop('county_name')\n",
    "lu=lu.select('County','zip')\n",
    "\n",
    "b_county=boston.join(lu,'zip','inner')\n",
    "b_zip=b_county\n",
    "b_county=b_county.withColumn('cases',col('cases').cast('Integer')).withColumn('deaths',col('deaths').cast('Integer'))\n",
    "b_county=b_county.groupBy(['date','County']).agg(f.sum('cases').alias('cases'),f.sum('deaths').alias('deaths')).\\\n",
    "withColumn('city',f.lit('Boston'))\n",
    "\n",
    "d_county=denver.join(lu,'zip','inner')\n",
    "\n",
    "d_zip=d_county\n",
    "d_county=d_county.withColumn('cases',col('cases').cast('Integer')).withColumn('deaths',col('deaths').cast('Integer'))\n",
    "d_county=d_county.groupBy(['date','County']).agg(f.sum('cases').alias('cases'),f.sum('deaths').alias('deaths')).\\\n",
    "withColumn('city',f.lit('Denver'))\n",
    "\n",
    "p_county=phoenix.join(lu,'zip','inner')\n",
    "\n",
    "p_zip=p_county\n",
    "p_county=p_county.withColumn('cases',col('cases').cast('Integer')).withColumn('deaths',col('deaths').cast('Integer'))\n",
    "p_county=p_county.groupBy(['date','County']).agg(f.sum('cases').alias('cases'),f.sum('deaths').alias('deaths')).\\\n",
    "withColumn('city',f.lit('Phoenix'))\n",
    "\n",
    "m_county=baltimore.join(lu,'zip','inner')\n",
    "m_zip=m_county\n",
    "m_county=m_county.withColumn('cases',col('cases').cast('Integer')).withColumn('deaths',col('deaths').cast('Integer'))\n",
    "m_county=m_county.groupBy(['date','County']).agg(f.sum('cases').alias('cases'),f.sum('deaths').alias('deaths')).\\\n",
    "withColumn('city',f.lit('Baltimore'))\n",
    "\n",
    "crime=crime.withColumn('zip', format_string(\"%05d\", col('zip').cast('Integer')))\n",
    "Crime=crime.fillna('0').withColumn('zip', format_string(\"%05d\", col('zip').cast('Integer')))\n",
    "Crime=Crime.join(lu,'zip','inner')\n",
    "Crime_zip=Crime.withColumn('date',col('crimedate')).drop('crimedate').withColumn('city_crime',col('city')).drop('city')\n",
    "Crime=Crime.groupBy(['crimedate','County','city']).agg(f.sum('Non-Violent').alias('Non-Violent'),f.sum('Violent').alias('Violent'))\\\n",
    ".withColumn('date',col('crimedate')).drop('crimedate').withColumn('city_crime',col('city')).drop('city')\n",
    "covid=m_county.union(b_county).union(p_county).union(d_county)\n",
    "covid=covid.withColumn('city_covid',col('city')).drop('city')\n",
    "crime_covid=Crime.join(covid,['date','County'],'outer')\n",
    "covid_zip=b_zip.union(d_zip).union(p_zip).union(m_zip)\n",
    "covid_zip=covid_zip.withColumn('city_covid',col('city')).drop('city')\n",
    "\n",
    "Combined_covid_crime_zip=Crime_zip.join(covid_zip,['date','zip','County'],'outer')\n",
    "\n",
    "\n"
   ]
  },
  {
   "cell_type": "markdown",
   "metadata": {},
   "source": [
    "###  Converting County level data to Zip level"
   ]
  },
  {
   "cell_type": "code",
   "execution_count": 51,
   "metadata": {},
   "outputs": [
    {
     "name": "stdout",
     "output_type": "stream",
     "text": [
      "+----------+-----+--------+----+-----+---+------+-------+-------------+--------------+--------------+--------------+--------------+-----------+------------+------------+------------+------------+----+---------+---------+---------+---------+---------+---------+---------+----------------------+-----------------------+--------------------+------------------+-----+--------+--------------+------------+-----+----------+--------+-------+-------------------+----+-------+--------+--------------------+-----------+---------+-----------+-------+----------+----------+-----------+-----+------+----------+-----------+-----------+------------+----------+\n",
      "|      date|  zip|  County|year|month|day|cityid|   City|merchants_all|merchants_ss40|merchants_ss60|merchants_ss65|merchants_ss70|revenue_all|revenue_ss40|revenue_ss60|revenue_ss65|revenue_ss70|_c16|spend_acf|spend_aer|spend_all|spend_apg|spend_grf|spend_hcs|spend_tws|spend_retail_w_grocery|spend_retail_no_grocery|                prop|Aggravated Assault|Arson|Burglary|Common Assault|Drug Offense|Fraud|Harassment|Homicide|Larceny|Motor Vehicle Theft|Rape|Robbery|Shooting|Threat - Bodily Harm|Trespassing|Vandalism|Non-Violent|Violent|city_crime|state_name|county_fips|cases|deaths|prev_cases|daily_cases|prev_deaths|daily_deaths|city_covid|\n",
      "+----------+-----+--------+----+-----+---+------+-------+-------------+--------------+--------------+--------------+--------------+-----------+------------+------------+------------+------------+----+---------+---------+---------+---------+---------+---------+---------+----------------------+-----------------------+--------------------+------------------+-----+--------+--------------+------------+-----+----------+--------+-------+-------------------+----+-------+--------+--------------------+-----------+---------+-----------+-------+----------+----------+-----------+-----+------+----------+-----------+-----------+------------+----------+\n",
      "|2020-01-11|85085|Maricopa|2020|   01| 11|     5|Phoenix|       0.0107|   0.023399999|      -0.00406|        0.0136|        0.0109|   0.000131| 0.019400001|-0.031800002|     -0.0156| 0.022700001|null|        .|        .|        .|        .|        .|        .|        .|                     .|                      .|0.005201413990260375|                 0|    0|       0|             0|           0|    0|         0|       0|    3.0|                  0|   0|      0|       0|                   0|          0|        0|        3.0|      0|   Phoenix|      null|       null| null|  null|      null|       null|       null|        null|      null|\n",
      "|2020-01-12|85051|Maricopa|2020|   01| 12|     5|Phoenix|       0.0115|   0.022700001|      -0.00512|        0.0138|       0.00911|     0.0013| 0.024499999|     -0.0363|-0.016899999| 0.019099999|null|        .|        .|        .|        .|        .|        .|        .|                     .|                      .|0.010313838861782335|                 0|    0|       0|             0|           0|    0|         0|       0|    3.0|                3.0|   0|      0|       0|                   0|          0|        0|        6.0|      0|   Phoenix|      null|       null| null|  null|      null|       null|       null|        null|      null|\n",
      "|2020-01-16|85044|Maricopa|2020|   01| 16|     5|Phoenix|    -0.000355|      -0.00659|       0.00507|      -0.00357|        0.0014|     0.0105|    0.000701|    -0.00988|      0.0176| 0.046999998|null|  0.00684|   0.0182|   0.0197|  -0.0354|  0.00286|   0.0524|    0.035|               -0.0548|                -0.0832| 0.00970660521733836|                 0|    0|       0|             0|           0|    0|         0|       0|    1.0|                  0|   0|      0|       0|                   0|          0|        0|        1.0|      0|   Phoenix|      null|       null| null|  null|      null|       null|       null|        null|      null|\n",
      "+----------+-----+--------+----+-----+---+------+-------+-------------+--------------+--------------+--------------+--------------+-----------+------------+------------+------------+------------+----+---------+---------+---------+---------+---------+---------+---------+----------------------+-----------------------+--------------------+------------------+-----+--------+--------------+------------+-----+----------+--------+-------+-------------------+----+-------+--------+--------------------+-----------+---------+-----------+-------+----------+----------+-----------+-----+------+----------+-----------+-----------+------------+----------+\n",
      "only showing top 3 rows\n",
      "\n"
     ]
    }
   ],
   "source": [
    "all=lookup.groupBy('state_name','county_name').agg(f.sum('population').alias('pops'))\n",
    "all_zip=lookup.join(all,['state_name','county_name'],'inner')\n",
    "\n",
    "all_zip=all_zip.withColumn('prop',col('population')/col('pops')).select('zip','county_name','prop').withColumn('County',col('county_name')).drop('county_name')\n",
    "\n",
    "city_zip=city.join(all_zip,'County','inner')\n",
    "combined_city_zip_inner=city_zip.join(Combined_covid_crime_zip,['date','zip','County'],'inner')\n",
    "combined_city_zip_inner.show(3)\n"
   ]
  },
  {
   "cell_type": "markdown",
   "metadata": {},
   "source": [
    "### Saving Combined City SMB, Crime, Covid data at Zip level"
   ]
  },
  {
   "cell_type": "code",
   "execution_count": 53,
   "metadata": {},
   "outputs": [],
   "source": [
    "combined_city_zip_inner.repartition(1).write.csv(\"city_zip_inner_final\", header= 'true')\n"
   ]
  },
  {
   "cell_type": "code",
   "execution_count": null,
   "metadata": {},
   "outputs": [],
   "source": []
  }
 ],
 "metadata": {
  "kernelspec": {
   "display_name": "Python 3",
   "language": "python",
   "name": "python3"
  },
  "language_info": {
   "codemirror_mode": {
    "name": "ipython",
    "version": 3
   },
   "file_extension": ".py",
   "mimetype": "text/x-python",
   "name": "python",
   "nbconvert_exporter": "python",
   "pygments_lexer": "ipython3",
   "version": "3.6.9"
  }
 },
 "nbformat": 4,
 "nbformat_minor": 2
}
