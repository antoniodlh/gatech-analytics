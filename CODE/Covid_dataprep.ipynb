{
 "cells": [
  {
   "cell_type": "code",
   "execution_count": 1,
   "metadata": {},
   "outputs": [],
   "source": [
    "import pyspark\n",
    "from pyspark.sql import SQLContext, DataFrameWriter\n",
    "from pyspark.sql.functions import hour, when, col, date_format, to_timestamp, round, trim, to_date, unix_timestamp\n",
    "sc = pyspark.SparkContext(appName=\"Project\")\n",
    "sqlContext = SQLContext(sc)"
   ]
  },
  {
   "cell_type": "code",
   "execution_count": 2,
   "metadata": {},
   "outputs": [],
   "source": [
    "def load_data():\n",
    "    df = sqlContext.read.option(\"header\",True).csv(\"uszips.csv\")\n",
    "    return df"
   ]
  },
  {
   "cell_type": "code",
   "execution_count": 3,
   "metadata": {},
   "outputs": [
    {
     "name": "stdout",
     "output_type": "stream",
     "text": [
      "root\n",
      " |-- zip: string (nullable = true)\n",
      " |-- lat: string (nullable = true)\n",
      " |-- lng: string (nullable = true)\n",
      " |-- city: string (nullable = true)\n",
      " |-- state_id: string (nullable = true)\n",
      " |-- state_name: string (nullable = true)\n",
      " |-- zcta: string (nullable = true)\n",
      " |-- parent_zcta: string (nullable = true)\n",
      " |-- population: string (nullable = true)\n",
      " |-- density: string (nullable = true)\n",
      " |-- county_fips: string (nullable = true)\n",
      " |-- county_name: string (nullable = true)\n",
      " |-- county_weights: string (nullable = true)\n",
      " |-- county_names_all: string (nullable = true)\n",
      " |-- county_fips_all: string (nullable = true)\n",
      " |-- imprecise: string (nullable = true)\n",
      " |-- military: string (nullable = true)\n",
      " |-- timezone: string (nullable = true)\n",
      " |-- int_fips: integer (nullable = true)\n",
      "\n"
     ]
    },
    {
     "data": {
      "text/plain": [
       "33099"
      ]
     },
     "execution_count": 3,
     "metadata": {},
     "output_type": "execute_result"
    }
   ],
   "source": [
    "df = load_data()\n",
    "df = df.withColumn('state_name', trim(df.state_name))\\\n",
    "        .withColumn('county_name',trim(df.county_name))\\\n",
    "        .withColumn(\"int_fips\",col(\"county_fips\").cast('int'))\n",
    "df.printSchema()\n",
    "df.count()"
   ]
  },
  {
   "cell_type": "code",
   "execution_count": 4,
   "metadata": {},
   "outputs": [],
   "source": [
    "def load_covid_data():\n",
    "    covid = sqlContext.read.option(\"header\",True).csv(\"us-counties.csv\")\n",
    "    return covid"
   ]
  },
  {
   "cell_type": "code",
   "execution_count": 5,
   "metadata": {},
   "outputs": [
    {
     "data": {
      "text/plain": [
       "622957"
      ]
     },
     "execution_count": 5,
     "metadata": {},
     "output_type": "execute_result"
    }
   ],
   "source": [
    "df1= load_covid_data()\n",
    "#df1.count()\n",
    "df1 = df1.filter(col(\"county\") != \"Unknown\")\n",
    "df1 = df1.withColumn('state', trim(\"state\"))\\\n",
    "         .withColumn('county', trim(\"county\"))\n",
    "           \n",
    "df1.count()"
   ]
  },
  {
   "cell_type": "code",
   "execution_count": 10,
   "metadata": {
    "scrolled": true
   },
   "outputs": [
    {
     "name": "stdout",
     "output_type": "stream",
     "text": [
      "+--------------+---------------+--------+---------+\n",
      "|pop_state_name|pop_county_name|pop_fips|total_pop|\n",
      "+--------------+---------------+--------+---------+\n",
      "|       Alabama|        Autauga|   01001|  57046.0|\n",
      "|       Alabama|        Baldwin|   01003| 207694.0|\n",
      "|       Alabama|        Barbour|   01005|  25278.0|\n",
      "|       Alabama|           Bibb|   01007|  22859.0|\n",
      "|       Alabama|         Blount|   01009|  45030.0|\n",
      "|       Alabama|        Bullock|   01011|  10341.0|\n",
      "|       Alabama|         Butler|   01013|  19770.0|\n",
      "|       Alabama|        Calhoun|   01015| 111533.0|\n",
      "|       Alabama|       Chambers|   01017|  35074.0|\n",
      "|       Alabama|       Cherokee|   01019|  28103.0|\n",
      "|       Alabama|        Chilton|   01021|  35064.0|\n",
      "|       Alabama|        Choctaw|   01023|  12712.0|\n",
      "|       Alabama|         Clarke|   01025|  25689.0|\n",
      "|       Alabama|           Clay|   01027|  12391.0|\n",
      "|       Alabama|       Cleburne|   01029|  14500.0|\n",
      "|       Alabama|         Coffee|   01031|  54456.0|\n",
      "|       Alabama|        Colbert|   01033|  52958.0|\n",
      "|       Alabama|        Conecuh|   01035|  12519.0|\n",
      "|       Alabama|          Coosa|   01037|  11075.0|\n",
      "|       Alabama|      Covington|   01039|  38464.0|\n",
      "+--------------+---------------+--------+---------+\n",
      "only showing top 20 rows\n",
      "\n",
      "+--------------+---------------+--------+---------+\n",
      "|pop_state_name|pop_county_name|pop_fips|total_pop|\n",
      "+--------------+---------------+--------+---------+\n",
      "|      Maryland|      Baltimore|   24510| 634371.0|\n",
      "|      Maryland|      Baltimore|   24005| 817480.0|\n",
      "+--------------+---------------+--------+---------+\n",
      "\n",
      "root\n",
      " |-- pop_state_name: string (nullable = true)\n",
      " |-- pop_county_name: string (nullable = true)\n",
      " |-- pop_fips: string (nullable = true)\n",
      " |-- total_pop: double (nullable = true)\n",
      "\n"
     ]
    }
   ],
   "source": [
    " df1 = df.groupBy(\"state_name\", \"county_name\", \"county_fips\") \\\n",
    "          .agg({\"population\":\"sum\" })\\\n",
    "          .withColumnRenamed('sum(population)', 'total_pop')\\\n",
    "          .withColumnRenamed('county_name', 'pop_county_name')\\\n",
    "          .withColumnRenamed('state_name', 'pop_state_name')\\\n",
    "          .withColumnRenamed('county_fips', 'pop_fips')\\\n",
    "          .orderBy(\"pop_state_name\",\"pop_county_name\")  \n",
    " df1.show(20) \n",
    " df1.filter(col(\"pop_county_name\") == \"Baltimore\").show()\n",
    " df1.printSchema()   \n",
    " "
   ]
  },
  {
   "cell_type": "raw",
   "metadata": {},
   "source": [
    "  "
   ]
  },
  {
   "cell_type": "raw",
   "metadata": {},
   "source": []
  },
  {
   "cell_type": "code",
   "execution_count": 11,
   "metadata": {},
   "outputs": [
    {
     "name": "stdout",
     "output_type": "stream",
     "text": [
      "root\n",
      " |-- zip: string (nullable = true)\n",
      " |-- lat: string (nullable = true)\n",
      " |-- lng: string (nullable = true)\n",
      " |-- city: string (nullable = true)\n",
      " |-- state_id: string (nullable = true)\n",
      " |-- state_name: string (nullable = true)\n",
      " |-- zcta: string (nullable = true)\n",
      " |-- parent_zcta: string (nullable = true)\n",
      " |-- population: string (nullable = true)\n",
      " |-- density: string (nullable = true)\n",
      " |-- county_fips: string (nullable = true)\n",
      " |-- county_name: string (nullable = true)\n",
      " |-- county_weights: string (nullable = true)\n",
      " |-- county_names_all: string (nullable = true)\n",
      " |-- county_fips_all: string (nullable = true)\n",
      " |-- imprecise: string (nullable = true)\n",
      " |-- military: string (nullable = true)\n",
      " |-- timezone: string (nullable = true)\n",
      " |-- int_fips: integer (nullable = true)\n",
      " |-- pop_state_name: string (nullable = true)\n",
      " |-- pop_county_name: string (nullable = true)\n",
      " |-- pop_fips: string (nullable = true)\n",
      " |-- total_pop: double (nullable = true)\n",
      "\n",
      "+----------+-----+--------+---------+--------------------+-----------+----------+---------+\n",
      "|state_name|  zip|     lat|      lng|                city|county_name|population|total_pop|\n",
      "+----------+-----+--------+---------+--------------------+-----------+----------+---------+\n",
      "|  Maryland|21013|39.50906|-76.48647|             Baldwin|  Baltimore|      4608| 817480.0|\n",
      "|  Maryland|21030| 39.4919|-76.66767|        Cockeysville|  Baltimore|     25637| 817480.0|\n",
      "|  Maryland|21051|39.47211|-76.45391|                Fork|  Baltimore|       330| 817480.0|\n",
      "|  Maryland|21052|39.20675|-76.44568|         Fort Howard|  Baltimore|       251| 817480.0|\n",
      "|  Maryland|21053|39.69257|-76.71562|            Freeland|  Baltimore|      3302| 817480.0|\n",
      "|  Maryland|21057|39.45048|-76.50649|            Glen Arm|  Baltimore|      4284| 817480.0|\n",
      "|  Maryland|21071|39.48163|-76.81091|             Glyndon|  Baltimore|       595| 817480.0|\n",
      "|  Maryland|21082|39.47921|-76.47713|               Hydes|  Baltimore|       611| 817480.0|\n",
      "|  Maryland|21087|39.44771| -76.4157|          Kingsville|  Baltimore|      5407| 817480.0|\n",
      "|  Maryland|21093|39.43979|-76.64088|Lutherville Timonium|  Baltimore|     37917| 817480.0|\n",
      "|  Maryland|21111|39.57725|-76.58179|             Monkton|  Baltimore|      4995| 817480.0|\n",
      "|  Maryland|21117| 39.4271|-76.77713|        Owings Mills|  Baltimore|     58673| 817480.0|\n",
      "|  Maryland|21120|39.64497| -76.6789|             Parkton|  Baltimore|      7214| 817480.0|\n",
      "|  Maryland|21128|39.40774|-76.44622|          Perry Hall|  Baltimore|     14425| 817480.0|\n",
      "|  Maryland|21131|39.50467|-76.57373|             Phoenix|  Baltimore|      7456| 817480.0|\n",
      "|  Maryland|21133|39.37477|-76.81246|        Randallstown|  Baltimore|     32489| 817480.0|\n",
      "|  Maryland|21136|39.48903|-76.80848|        Reisterstown|  Baltimore|     34164| 817480.0|\n",
      "|  Maryland|21152|39.54827| -76.6819|      Sparks Glencoe|  Baltimore|      5511| 817480.0|\n",
      "|  Maryland|21153|39.41274|  -76.708|           Stevenson|  Baltimore|       316| 817480.0|\n",
      "|  Maryland|21155|39.57111|-76.80589|             Upperco|  Baltimore|      2584| 817480.0|\n",
      "+----------+-----+--------+---------+--------------------+-----------+----------+---------+\n",
      "only showing top 20 rows\n",
      "\n"
     ]
    }
   ],
   "source": [
    "#zip_data = load_data()\n",
    "valid_zip = df.filter(col(\"population\") > 0)\n",
    "              #.drop(\"county_fips\") \n",
    "zip_pop_join = valid_zip.join(df1,(valid_zip.county_fips == df1.pop_fips)& (valid_zip.state_name == df1.pop_state_name))\n",
    "#zip_pop_join = valid_zip.join(df1, (valid_zip.county_name == df1.pop_county_name))                                                                                    \n",
    "zip_pop_join.printSchema()\n",
    "#results = zip_data.filter(col(\"county_name\") == \"New York\")\n",
    "results = zip_pop_join.filter(col(\"county_name\") == \"Baltimore\")\\\n",
    "         .select(\"state_name\", \"zip\", \"lat\", \"lng\", \"city\", \"county_name\", \"population\", \"total_pop\" )\n",
    "zip_pop_join.count()    \n",
    "results.show()\n"
   ]
  },
  {
   "cell_type": "code",
   "execution_count": 12,
   "metadata": {},
   "outputs": [
    {
     "name": "stdout",
     "output_type": "stream",
     "text": [
      "root\n",
      " |-- date: string (nullable = true)\n",
      " |-- county: string (nullable = true)\n",
      " |-- state: string (nullable = true)\n",
      " |-- fips: integer (nullable = true)\n",
      " |-- cases: float (nullable = true)\n",
      " |-- deaths: float (nullable = true)\n",
      "\n",
      "+----------+-------------+-----------+-----+--------+---------+------+-----------+----------+---------+\n",
      "|      date|   state_name|county_fips|  zip|     lat|      lng|  city|county_name|population|total_pop|\n",
      "+----------+-------------+-----------+-----+--------+---------+------+-----------+----------+---------+\n",
      "|2020-10-13|Massachusetts|      25025|02108|42.35767|-71.06505|Boston|    Suffolk|      4082| 786312.0|\n",
      "|2020-10-12|Massachusetts|      25025|02108|42.35767|-71.06505|Boston|    Suffolk|      4082| 786312.0|\n",
      "|2020-10-11|Massachusetts|      25025|02108|42.35767|-71.06505|Boston|    Suffolk|      4082| 786312.0|\n",
      "|2020-10-10|Massachusetts|      25025|02108|42.35767|-71.06505|Boston|    Suffolk|      4082| 786312.0|\n",
      "|2020-10-09|Massachusetts|      25025|02108|42.35767|-71.06505|Boston|    Suffolk|      4082| 786312.0|\n",
      "|2020-10-08|Massachusetts|      25025|02108|42.35767|-71.06505|Boston|    Suffolk|      4082| 786312.0|\n",
      "|2020-10-07|Massachusetts|      25025|02108|42.35767|-71.06505|Boston|    Suffolk|      4082| 786312.0|\n",
      "|2020-10-06|Massachusetts|      25025|02108|42.35767|-71.06505|Boston|    Suffolk|      4082| 786312.0|\n",
      "|2020-10-05|Massachusetts|      25025|02108|42.35767|-71.06505|Boston|    Suffolk|      4082| 786312.0|\n",
      "|2020-10-04|Massachusetts|      25025|02108|42.35767|-71.06505|Boston|    Suffolk|      4082| 786312.0|\n",
      "+----------+-------------+-----------+-----+--------+---------+------+-----------+----------+---------+\n",
      "only showing top 10 rows\n",
      "\n",
      "root\n",
      " |-- date: date (nullable = true)\n",
      " |-- county: string (nullable = true)\n",
      " |-- state: string (nullable = true)\n",
      " |-- fips: integer (nullable = true)\n",
      " |-- zip: string (nullable = true)\n",
      " |-- lat: string (nullable = true)\n",
      " |-- lng: string (nullable = true)\n",
      " |-- city: string (nullable = true)\n",
      " |-- state_id: string (nullable = true)\n",
      " |-- state_name: string (nullable = true)\n",
      " |-- zcta: string (nullable = true)\n",
      " |-- parent_zcta: string (nullable = true)\n",
      " |-- population: string (nullable = true)\n",
      " |-- density: string (nullable = true)\n",
      " |-- county_fips: string (nullable = true)\n",
      " |-- county_name: string (nullable = true)\n",
      " |-- county_weights: string (nullable = true)\n",
      " |-- county_names_all: string (nullable = true)\n",
      " |-- county_fips_all: string (nullable = true)\n",
      " |-- imprecise: string (nullable = true)\n",
      " |-- military: string (nullable = true)\n",
      " |-- timezone: string (nullable = true)\n",
      " |-- int_fips: integer (nullable = true)\n",
      " |-- pop_state_name: string (nullable = true)\n",
      " |-- pop_county_name: string (nullable = true)\n",
      " |-- pop_fips: string (nullable = true)\n",
      " |-- total_pop: double (nullable = true)\n",
      " |-- cases: integer (nullable = true)\n",
      " |-- deaths: integer (nullable = true)\n",
      "\n",
      "+----------+--------+-------+-----+-----+--------+--------+----------+--------+----------+----+-----------+----------+-------+-----------+-----------+--------------------+--------------------+-----------------+---------+--------+----------------+--------+--------------+---------------+--------+---------+-----+------+\n",
      "|      date|  county|  state| fips|  zip|     lat|     lng|      city|state_id|state_name|zcta|parent_zcta|population|density|county_fips|county_name|      county_weights|    county_names_all|  county_fips_all|imprecise|military|        timezone|int_fips|pop_state_name|pop_county_name|pop_fips|total_pop|cases|deaths|\n",
      "+----------+--------+-------+-----+-----+--------+--------+----------+--------+----------+----+-----------+----------+-------+-----------+-----------+--------------------+--------------------+-----------------+---------+--------+----------------+--------+--------------+---------------+--------+---------+-----+------+\n",
      "|2020-03-24|Ben Hill|Georgia|13017|31750|31.73354|-83.2161|Fitzgerald|      GA|   Georgia|TRUE|       null|     18322|   25.6|      13017|   Ben Hill|{'13017':92.34,'1...|Ben Hill|Irwin|Wi...|13017|13155|13315|    FALSE|   FALSE|America/New_York|   13017|       Georgia|       Ben Hill|   13017|  18322.0|    1|     0|\n",
      "|2020-03-25|Ben Hill|Georgia|13017|31750|31.73354|-83.2161|Fitzgerald|      GA|   Georgia|TRUE|       null|     18322|   25.6|      13017|   Ben Hill|{'13017':92.34,'1...|Ben Hill|Irwin|Wi...|13017|13155|13315|    FALSE|   FALSE|America/New_York|   13017|       Georgia|       Ben Hill|   13017|  18322.0|    1|     0|\n",
      "|2020-03-26|Ben Hill|Georgia|13017|31750|31.73354|-83.2161|Fitzgerald|      GA|   Georgia|TRUE|       null|     18322|   25.6|      13017|   Ben Hill|{'13017':92.34,'1...|Ben Hill|Irwin|Wi...|13017|13155|13315|    FALSE|   FALSE|America/New_York|   13017|       Georgia|       Ben Hill|   13017|  18322.0|    1|     0|\n",
      "|2020-03-27|Ben Hill|Georgia|13017|31750|31.73354|-83.2161|Fitzgerald|      GA|   Georgia|TRUE|       null|     18322|   25.6|      13017|   Ben Hill|{'13017':92.34,'1...|Ben Hill|Irwin|Wi...|13017|13155|13315|    FALSE|   FALSE|America/New_York|   13017|       Georgia|       Ben Hill|   13017|  18322.0|    2|     0|\n",
      "|2020-03-28|Ben Hill|Georgia|13017|31750|31.73354|-83.2161|Fitzgerald|      GA|   Georgia|TRUE|       null|     18322|   25.6|      13017|   Ben Hill|{'13017':92.34,'1...|Ben Hill|Irwin|Wi...|13017|13155|13315|    FALSE|   FALSE|America/New_York|   13017|       Georgia|       Ben Hill|   13017|  18322.0|    2|     0|\n",
      "|2020-03-29|Ben Hill|Georgia|13017|31750|31.73354|-83.2161|Fitzgerald|      GA|   Georgia|TRUE|       null|     18322|   25.6|      13017|   Ben Hill|{'13017':92.34,'1...|Ben Hill|Irwin|Wi...|13017|13155|13315|    FALSE|   FALSE|America/New_York|   13017|       Georgia|       Ben Hill|   13017|  18322.0|    2|     0|\n",
      "|2020-03-30|Ben Hill|Georgia|13017|31750|31.73354|-83.2161|Fitzgerald|      GA|   Georgia|TRUE|       null|     18322|   25.6|      13017|   Ben Hill|{'13017':92.34,'1...|Ben Hill|Irwin|Wi...|13017|13155|13315|    FALSE|   FALSE|America/New_York|   13017|       Georgia|       Ben Hill|   13017|  18322.0|    3|     0|\n",
      "|2020-03-31|Ben Hill|Georgia|13017|31750|31.73354|-83.2161|Fitzgerald|      GA|   Georgia|TRUE|       null|     18322|   25.6|      13017|   Ben Hill|{'13017':92.34,'1...|Ben Hill|Irwin|Wi...|13017|13155|13315|    FALSE|   FALSE|America/New_York|   13017|       Georgia|       Ben Hill|   13017|  18322.0|    3|     0|\n",
      "|2020-04-01|Ben Hill|Georgia|13017|31750|31.73354|-83.2161|Fitzgerald|      GA|   Georgia|TRUE|       null|     18322|   25.6|      13017|   Ben Hill|{'13017':92.34,'1...|Ben Hill|Irwin|Wi...|13017|13155|13315|    FALSE|   FALSE|America/New_York|   13017|       Georgia|       Ben Hill|   13017|  18322.0|    3|     0|\n",
      "|2020-04-02|Ben Hill|Georgia|13017|31750|31.73354|-83.2161|Fitzgerald|      GA|   Georgia|TRUE|       null|     18322|   25.6|      13017|   Ben Hill|{'13017':92.34,'1...|Ben Hill|Irwin|Wi...|13017|13155|13315|    FALSE|   FALSE|America/New_York|   13017|       Georgia|       Ben Hill|   13017|  18322.0|    3|     0|\n",
      "|2020-04-03|Ben Hill|Georgia|13017|31750|31.73354|-83.2161|Fitzgerald|      GA|   Georgia|TRUE|       null|     18322|   25.6|      13017|   Ben Hill|{'13017':92.34,'1...|Ben Hill|Irwin|Wi...|13017|13155|13315|    FALSE|   FALSE|America/New_York|   13017|       Georgia|       Ben Hill|   13017|  18322.0|    3|     0|\n",
      "|2020-04-04|Ben Hill|Georgia|13017|31750|31.73354|-83.2161|Fitzgerald|      GA|   Georgia|TRUE|       null|     18322|   25.6|      13017|   Ben Hill|{'13017':92.34,'1...|Ben Hill|Irwin|Wi...|13017|13155|13315|    FALSE|   FALSE|America/New_York|   13017|       Georgia|       Ben Hill|   13017|  18322.0|    4|     0|\n",
      "|2020-04-05|Ben Hill|Georgia|13017|31750|31.73354|-83.2161|Fitzgerald|      GA|   Georgia|TRUE|       null|     18322|   25.6|      13017|   Ben Hill|{'13017':92.34,'1...|Ben Hill|Irwin|Wi...|13017|13155|13315|    FALSE|   FALSE|America/New_York|   13017|       Georgia|       Ben Hill|   13017|  18322.0|    4|     0|\n",
      "|2020-04-06|Ben Hill|Georgia|13017|31750|31.73354|-83.2161|Fitzgerald|      GA|   Georgia|TRUE|       null|     18322|   25.6|      13017|   Ben Hill|{'13017':92.34,'1...|Ben Hill|Irwin|Wi...|13017|13155|13315|    FALSE|   FALSE|America/New_York|   13017|       Georgia|       Ben Hill|   13017|  18322.0|    6|     0|\n",
      "|2020-04-07|Ben Hill|Georgia|13017|31750|31.73354|-83.2161|Fitzgerald|      GA|   Georgia|TRUE|       null|     18322|   25.6|      13017|   Ben Hill|{'13017':92.34,'1...|Ben Hill|Irwin|Wi...|13017|13155|13315|    FALSE|   FALSE|America/New_York|   13017|       Georgia|       Ben Hill|   13017|  18322.0|    6|     0|\n",
      "|2020-04-08|Ben Hill|Georgia|13017|31750|31.73354|-83.2161|Fitzgerald|      GA|   Georgia|TRUE|       null|     18322|   25.6|      13017|   Ben Hill|{'13017':92.34,'1...|Ben Hill|Irwin|Wi...|13017|13155|13315|    FALSE|   FALSE|America/New_York|   13017|       Georgia|       Ben Hill|   13017|  18322.0|    6|     0|\n",
      "|2020-04-09|Ben Hill|Georgia|13017|31750|31.73354|-83.2161|Fitzgerald|      GA|   Georgia|TRUE|       null|     18322|   25.6|      13017|   Ben Hill|{'13017':92.34,'1...|Ben Hill|Irwin|Wi...|13017|13155|13315|    FALSE|   FALSE|America/New_York|   13017|       Georgia|       Ben Hill|   13017|  18322.0|    7|     0|\n",
      "|2020-04-10|Ben Hill|Georgia|13017|31750|31.73354|-83.2161|Fitzgerald|      GA|   Georgia|TRUE|       null|     18322|   25.6|      13017|   Ben Hill|{'13017':92.34,'1...|Ben Hill|Irwin|Wi...|13017|13155|13315|    FALSE|   FALSE|America/New_York|   13017|       Georgia|       Ben Hill|   13017|  18322.0|    8|     0|\n",
      "|2020-04-11|Ben Hill|Georgia|13017|31750|31.73354|-83.2161|Fitzgerald|      GA|   Georgia|TRUE|       null|     18322|   25.6|      13017|   Ben Hill|{'13017':92.34,'1...|Ben Hill|Irwin|Wi...|13017|13155|13315|    FALSE|   FALSE|America/New_York|   13017|       Georgia|       Ben Hill|   13017|  18322.0|    8|     0|\n",
      "|2020-04-12|Ben Hill|Georgia|13017|31750|31.73354|-83.2161|Fitzgerald|      GA|   Georgia|TRUE|       null|     18322|   25.6|      13017|   Ben Hill|{'13017':92.34,'1...|Ben Hill|Irwin|Wi...|13017|13155|13315|    FALSE|   FALSE|America/New_York|   13017|       Georgia|       Ben Hill|   13017|  18322.0|    8|     0|\n",
      "+----------+--------+-------+-----+-----+--------+--------+----------+--------+----------+----+-----------+----------+-------+-----------+-----------+--------------------+--------------------+-----------------+---------+--------+----------------+--------+--------------+---------------+--------+---------+-----+------+\n",
      "only showing top 20 rows\n",
      "\n"
     ]
    },
    {
     "data": {
      "text/plain": [
       "6197581"
      ]
     },
     "execution_count": 12,
     "metadata": {},
     "output_type": "execute_result"
    }
   ],
   "source": [
    "from pyspark.sql.functions import from_unixtime\n",
    "covid_data = load_covid_data()\n",
    "covid_data = covid_data.withColumn(\"cases\",col(\"cases\").cast('float'))\\\n",
    "                  .withColumn(\"deaths\",col(\"deaths\").cast('float'))\\\n",
    "                  .withColumn(\"fips\",col(\"fips\").cast('int')) \n",
    "covid_data.count()\n",
    "covid_data.printSchema()\n",
    "results1 = covid_data.filter(col(\"county\") == \"Suffolk\")         \n",
    "#results1.show()\n",
    "results2 = zip_pop_join.filter(col(\"county_name\") == \"Suffolk\")\\\n",
    "                       .select(\"state_name\", \"zip\",\"county_fips\", \"lat\", \"lng\", \"city\", \"county_name\", \"population\", \"total_pop\" ) \n",
    "#results2.show()\n",
    "\n",
    "norm_covid = covid_data.join(zip_pop_join,(covid_data.fips == zip_pop_join.int_fips) & (covid_data.county == zip_pop_join.county_name), 'inner' )\n",
    "sample     = norm_covid.filter(col(\"county_name\") == \"Suffolk\")\\\n",
    "             .select(\"date\", \"state_name\",\"county_fips\", \"zip\", \"lat\", \"lng\", \"city\", \"county_name\", \"population\", \"total_pop\" )\n",
    "sample.show(10) \n",
    "\n",
    "norm_covid = norm_covid.withColumn('norm_cases', round((norm_covid.cases * norm_covid.population/norm_covid.total_pop)))\\\n",
    "                  .withColumn('norm_deaths',round((norm_covid.deaths * norm_covid.population/norm_covid.total_pop)))\\\n",
    "                  .withColumn(\"date\", norm_covid.date.cast('Date'))\\\n",
    "                  .drop(\"cases\", \"deaths\")\\\n",
    "                  .filter(col('date') <= \"2020-09-30\") \n",
    "norm_covid = norm_covid.withColumn(\"norm_cases\",col(\"norm_cases\").cast('int'))\\\n",
    "                        .withColumn(\"norm_deaths\",col(\"norm_deaths\").cast('int'))\\\n",
    "                        .withColumnRenamed('norm_cases', 'cases')\\\n",
    "                        .withColumnRenamed('norm_deaths', 'deaths')\n",
    "\n",
    "norm_covid.printSchema()               \n",
    " #.withColumn(\"date\", date_format(col(\"date\"),\"MM/dd/yyyy\"))         \n",
    "norm_covid.show()   \n",
    "norm_covid.count()\n"
   ]
  },
  {
   "cell_type": "code",
   "execution_count": 14,
   "metadata": {},
   "outputs": [
    {
     "data": {
      "text/plain": [
       "6197581"
      ]
     },
     "execution_count": 14,
     "metadata": {},
     "output_type": "execute_result"
    }
   ],
   "source": [
    "data = norm_covid.select(\"date\", \"state_name\", \"zip\", \"county_fips\", \"city\", \"cases\", \"deaths\")\\\n",
    "      .orderBy(\"date\", \"zip\", \"state_name\") \n",
    "data.repartition(1).write.csv('covid_zip1.csv',  header=True)   \n",
    "data.count()"
   ]
  },
  {
   "cell_type": "code",
   "execution_count": 15,
   "metadata": {},
   "outputs": [
    {
     "data": {
      "text/plain": [
       "10458"
      ]
     },
     "execution_count": 15,
     "metadata": {},
     "output_type": "execute_result"
    }
   ],
   "source": [
    "#data1=data.filter( (col(\"city\") == \"Phoenix\") & (col(\"state_name\") == \"Arizona\") )\n",
    "data1=data.filter( (col(\"state_id\") == \"AZ\") & (col(\"city\") == \"Phoenix\"))\\\n",
    "         .select(\"date\", \"state_name\", \"zip\", \"county_fips\", \"city\", \"cases\", \"deaths\")\n",
    "data1.repartition(1).write.csv('phoenix1.csv',  header=True)\n",
    "data1.count()"
   ]
  },
  {
   "cell_type": "code",
   "execution_count": 16,
   "metadata": {},
   "outputs": [
    {
     "data": {
      "text/plain": [
       "408"
      ]
     },
     "execution_count": 16,
     "metadata": {},
     "output_type": "execute_result"
    }
   ],
   "source": [
    "#data1=data.filter( (col(\"city\") == \"Phoenix\") & (col(\"state_name\") == \"Arizona\") )\n",
    "data2=data.filter( (col(\"state_id\") == \"MD\") & (col(\"city\") == \"Baltimore\"))\\\n",
    "         .select(\"date\", \"state_name\", \"zip\", \"county_fips\", \"city\", \"cases\", \"deaths\")\n",
    "data2.repartition(1).write.csv('balt1.csv',  header=True)\n",
    "data2.count()"
   ]
  },
  {
   "cell_type": "code",
   "execution_count": 17,
   "metadata": {},
   "outputs": [
    {
     "data": {
      "text/plain": [
       "3402"
      ]
     },
     "execution_count": 17,
     "metadata": {},
     "output_type": "execute_result"
    }
   ],
   "source": [
    "#data1=data.filter( (col(\"city\") == \"Phoenix\") & (col(\"state_name\") == \"Arizona\") )\n",
    "data3=data.filter( (col(\"state_id\") == \"MA\") & (col(\"city\") == \"Boston\"))\\\n",
    "         .select(\"date\", \"state_name\", \"zip\", \"county_fips\", \"city\", \"cases\", \"deaths\")\n",
    "data3.repartition(1).write.csv('boston1.csv',  header=True)\n",
    "data3.count()"
   ]
  },
  {
   "cell_type": "code",
   "execution_count": 18,
   "metadata": {},
   "outputs": [
    {
     "data": {
      "text/plain": [
       "7916"
      ]
     },
     "execution_count": 18,
     "metadata": {},
     "output_type": "execute_result"
    }
   ],
   "source": [
    "#data1=data.filter( (col(\"city\") == \"Phoenix\") & (col(\"state_name\") == \"Arizona\") )\n",
    "data4=data.filter( (col(\"state_id\") == \"CO\") & (col(\"city\") == \"Denver\"))\\\n",
    "         .select(\"date\", \"state_name\", \"zip\", \"county_fips\", \"city\", \"cases\", \"deaths\")\n",
    "data4.repartition(1).write.csv('denver1.csv',  header=True)\n",
    "data4.count()"
   ]
  },
  {
   "cell_type": "code",
   "execution_count": null,
   "metadata": {},
   "outputs": [],
   "source": []
  }
 ],
 "metadata": {
  "kernelspec": {
   "display_name": "Python 3",
   "language": "python",
   "name": "python3"
  },
  "language_info": {
   "codemirror_mode": {
    "name": "ipython",
    "version": 3
   },
   "file_extension": ".py",
   "mimetype": "text/x-python",
   "name": "python",
   "nbconvert_exporter": "python",
   "pygments_lexer": "ipython3",
   "version": "3.6.9"
  }
 },
 "nbformat": 4,
 "nbformat_minor": 2
}
